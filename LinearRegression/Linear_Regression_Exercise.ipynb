{
 "cells": [
  {
   "cell_type": "code",
   "execution_count": 1,
   "metadata": {},
   "outputs": [
    {
     "name": "stderr",
     "output_type": "stream",
     "text": [
      "Setting default log level to \"WARN\".\n",
      "To adjust logging level use sc.setLogLevel(newLevel). For SparkR, use setLogLevel(newLevel).\n",
      "24/03/09 21:59:35 WARN NativeCodeLoader: Unable to load native-hadoop library for your platform... using builtin-java classes where applicable\n",
      "24/03/09 21:59:36 WARN Utils: Service 'SparkUI' could not bind on port 4040. Attempting port 4041.\n"
     ]
    }
   ],
   "source": [
    "from pyspark.sql import SparkSession\n",
    "\n",
    "spark = SparkSession.builder.appName(\"Linear Regression Examplt\").getOrCreate()"
   ]
  },
  {
   "cell_type": "code",
   "execution_count": 5,
   "metadata": {},
   "outputs": [],
   "source": [
    "from pyspark.ml.regression import LinearRegression\n",
    "from pyspark.ml.feature import StringIndexer\n",
    "from pyspark.ml.linalg import Vectors\n",
    "from pyspark.ml.feature import VectorAssembler"
   ]
  },
  {
   "cell_type": "code",
   "execution_count": 4,
   "metadata": {},
   "outputs": [
    {
     "name": "stdout",
     "output_type": "stream",
     "text": [
      "+-----------+-----------+---+------------------+----------+------+------+-----------------+----+\n",
      "|  Ship_name|Cruise_line|Age|           Tonnage|passengers|length|cabins|passenger_density|crew|\n",
      "+-----------+-----------+---+------------------+----------+------+------+-----------------+----+\n",
      "|    Journey|    Azamara|  6|30.276999999999997|      6.94|  5.94|  3.55|            42.64|3.55|\n",
      "|      Quest|    Azamara|  6|30.276999999999997|      6.94|  5.94|  3.55|            42.64|3.55|\n",
      "|Celebration|   Carnival| 26|            47.262|     14.86|  7.22|  7.43|             31.8| 6.7|\n",
      "|   Conquest|   Carnival| 11|             110.0|     29.74|  9.53| 14.88|            36.99|19.1|\n",
      "|    Destiny|   Carnival| 17|           101.353|     26.42|  8.92| 13.21|            38.36|10.0|\n",
      "|    Ecstasy|   Carnival| 22|            70.367|     20.52|  8.55|  10.2|            34.29| 9.2|\n",
      "|    Elation|   Carnival| 15|            70.367|     20.52|  8.55|  10.2|            34.29| 9.2|\n",
      "|    Fantasy|   Carnival| 23|            70.367|     20.56|  8.55| 10.22|            34.23| 9.2|\n",
      "|Fascination|   Carnival| 19|            70.367|     20.52|  8.55|  10.2|            34.29| 9.2|\n",
      "|    Freedom|   Carnival|  6|110.23899999999999|      37.0|  9.51| 14.87|            29.79|11.5|\n",
      "|      Glory|   Carnival| 10|             110.0|     29.74|  9.51| 14.87|            36.99|11.6|\n",
      "|    Holiday|   Carnival| 28|            46.052|     14.52|  7.27|  7.26|            31.72| 6.6|\n",
      "|Imagination|   Carnival| 18|            70.367|     20.52|  8.55|  10.2|            34.29| 9.2|\n",
      "|Inspiration|   Carnival| 17|            70.367|     20.52|  8.55|  10.2|            34.29| 9.2|\n",
      "|     Legend|   Carnival| 11|              86.0|     21.24|  9.63| 10.62|            40.49| 9.3|\n",
      "|   Liberty*|   Carnival|  8|             110.0|     29.74|  9.51| 14.87|            36.99|11.6|\n",
      "|    Miracle|   Carnival|  9|              88.5|     21.24|  9.63| 10.62|            41.67|10.3|\n",
      "|   Paradise|   Carnival| 15|            70.367|     20.52|  8.55|  10.2|            34.29| 9.2|\n",
      "|      Pride|   Carnival| 12|              88.5|     21.24|  9.63| 11.62|            41.67| 9.3|\n",
      "|  Sensation|   Carnival| 20|            70.367|     20.52|  8.55|  10.2|            34.29| 9.2|\n",
      "+-----------+-----------+---+------------------+----------+------+------+-----------------+----+\n",
      "only showing top 20 rows\n",
      "\n"
     ]
    }
   ],
   "source": [
    "data = spark.read.csv(\"cruise_ship_info.csv\", header=True, inferSchema=True)\n",
    "data.show()"
   ]
  },
  {
   "cell_type": "code",
   "execution_count": 16,
   "metadata": {},
   "outputs": [],
   "source": [
    "stringIndexer = StringIndexer(inputCol=\"Cruise_line\", outputCol=\"Cruise_line_indexed\")"
   ]
  },
  {
   "cell_type": "code",
   "execution_count": 17,
   "metadata": {},
   "outputs": [],
   "source": [
    "stringIndexerModel = stringIndexer.fit(data)"
   ]
  },
  {
   "cell_type": "code",
   "execution_count": 18,
   "metadata": {},
   "outputs": [
    {
     "name": "stdout",
     "output_type": "stream",
     "text": [
      "+-----------+-----------+---+------------------+----------+------+------+-----------------+----+-------------------+\n",
      "|  Ship_name|Cruise_line|Age|           Tonnage|passengers|length|cabins|passenger_density|crew|Cruise_line_indexed|\n",
      "+-----------+-----------+---+------------------+----------+------+------+-----------------+----+-------------------+\n",
      "|    Journey|    Azamara|  6|30.276999999999997|      6.94|  5.94|  3.55|            42.64|3.55|               16.0|\n",
      "|      Quest|    Azamara|  6|30.276999999999997|      6.94|  5.94|  3.55|            42.64|3.55|               16.0|\n",
      "|Celebration|   Carnival| 26|            47.262|     14.86|  7.22|  7.43|             31.8| 6.7|                1.0|\n",
      "|   Conquest|   Carnival| 11|             110.0|     29.74|  9.53| 14.88|            36.99|19.1|                1.0|\n",
      "|    Destiny|   Carnival| 17|           101.353|     26.42|  8.92| 13.21|            38.36|10.0|                1.0|\n",
      "|    Ecstasy|   Carnival| 22|            70.367|     20.52|  8.55|  10.2|            34.29| 9.2|                1.0|\n",
      "|    Elation|   Carnival| 15|            70.367|     20.52|  8.55|  10.2|            34.29| 9.2|                1.0|\n",
      "|    Fantasy|   Carnival| 23|            70.367|     20.56|  8.55| 10.22|            34.23| 9.2|                1.0|\n",
      "|Fascination|   Carnival| 19|            70.367|     20.52|  8.55|  10.2|            34.29| 9.2|                1.0|\n",
      "|    Freedom|   Carnival|  6|110.23899999999999|      37.0|  9.51| 14.87|            29.79|11.5|                1.0|\n",
      "|      Glory|   Carnival| 10|             110.0|     29.74|  9.51| 14.87|            36.99|11.6|                1.0|\n",
      "|    Holiday|   Carnival| 28|            46.052|     14.52|  7.27|  7.26|            31.72| 6.6|                1.0|\n",
      "|Imagination|   Carnival| 18|            70.367|     20.52|  8.55|  10.2|            34.29| 9.2|                1.0|\n",
      "|Inspiration|   Carnival| 17|            70.367|     20.52|  8.55|  10.2|            34.29| 9.2|                1.0|\n",
      "|     Legend|   Carnival| 11|              86.0|     21.24|  9.63| 10.62|            40.49| 9.3|                1.0|\n",
      "|   Liberty*|   Carnival|  8|             110.0|     29.74|  9.51| 14.87|            36.99|11.6|                1.0|\n",
      "|    Miracle|   Carnival|  9|              88.5|     21.24|  9.63| 10.62|            41.67|10.3|                1.0|\n",
      "|   Paradise|   Carnival| 15|            70.367|     20.52|  8.55|  10.2|            34.29| 9.2|                1.0|\n",
      "|      Pride|   Carnival| 12|              88.5|     21.24|  9.63| 11.62|            41.67| 9.3|                1.0|\n",
      "|  Sensation|   Carnival| 20|            70.367|     20.52|  8.55|  10.2|            34.29| 9.2|                1.0|\n",
      "+-----------+-----------+---+------------------+----------+------+------+-----------------+----+-------------------+\n",
      "only showing top 20 rows\n",
      "\n"
     ]
    }
   ],
   "source": [
    "new_data = stringIndexerModel.transform(data)\n",
    "new_data.show()"
   ]
  },
  {
   "cell_type": "code",
   "execution_count": 36,
   "metadata": {},
   "outputs": [
    {
     "data": {
      "text/plain": [
       "[Row(Cruise_line_indexed=8.0),\n",
       " Row(Cruise_line_indexed=0.0),\n",
       " Row(Cruise_line_indexed=7.0),\n",
       " Row(Cruise_line_indexed=18.0),\n",
       " Row(Cruise_line_indexed=1.0),\n",
       " Row(Cruise_line_indexed=4.0),\n",
       " Row(Cruise_line_indexed=11.0),\n",
       " Row(Cruise_line_indexed=14.0),\n",
       " Row(Cruise_line_indexed=3.0),\n",
       " Row(Cruise_line_indexed=19.0),\n",
       " Row(Cruise_line_indexed=2.0),\n",
       " Row(Cruise_line_indexed=17.0),\n",
       " Row(Cruise_line_indexed=10.0),\n",
       " Row(Cruise_line_indexed=13.0),\n",
       " Row(Cruise_line_indexed=6.0),\n",
       " Row(Cruise_line_indexed=5.0),\n",
       " Row(Cruise_line_indexed=15.0),\n",
       " Row(Cruise_line_indexed=9.0),\n",
       " Row(Cruise_line_indexed=16.0),\n",
       " Row(Cruise_line_indexed=12.0)]"
      ]
     },
     "execution_count": 36,
     "metadata": {},
     "output_type": "execute_result"
    }
   ],
   "source": [
    "new_data.select(\"Cruise_line_indexed\").distinct().collect()"
   ]
  },
  {
   "cell_type": "code",
   "execution_count": 40,
   "metadata": {},
   "outputs": [
    {
     "data": {
      "text/plain": [
       "[Row(Cruise_line='Costa'),\n",
       " Row(Cruise_line='P&O'),\n",
       " Row(Cruise_line='Cunard'),\n",
       " Row(Cruise_line='Regent_Seven_Seas'),\n",
       " Row(Cruise_line='MSC'),\n",
       " Row(Cruise_line='Carnival'),\n",
       " Row(Cruise_line='Crystal'),\n",
       " Row(Cruise_line='Orient'),\n",
       " Row(Cruise_line='Princess'),\n",
       " Row(Cruise_line='Silversea'),\n",
       " Row(Cruise_line='Seabourn'),\n",
       " Row(Cruise_line='Holland_American'),\n",
       " Row(Cruise_line='Windstar'),\n",
       " Row(Cruise_line='Disney'),\n",
       " Row(Cruise_line='Norwegian'),\n",
       " Row(Cruise_line='Oceania'),\n",
       " Row(Cruise_line='Azamara'),\n",
       " Row(Cruise_line='Celebrity'),\n",
       " Row(Cruise_line='Star'),\n",
       " Row(Cruise_line='Royal_Caribbean')]"
      ]
     },
     "execution_count": 40,
     "metadata": {},
     "output_type": "execute_result"
    }
   ],
   "source": [
    "data.select(\"Cruise_line\").distinct().collect()"
   ]
  },
  {
   "cell_type": "code",
   "execution_count": 19,
   "metadata": {},
   "outputs": [
    {
     "data": {
      "text/plain": [
       "['Ship_name',\n",
       " 'Cruise_line',\n",
       " 'Age',\n",
       " 'Tonnage',\n",
       " 'passengers',\n",
       " 'length',\n",
       " 'cabins',\n",
       " 'passenger_density',\n",
       " 'crew',\n",
       " 'Cruise_line_indexed']"
      ]
     },
     "execution_count": 19,
     "metadata": {},
     "output_type": "execute_result"
    }
   ],
   "source": [
    "new_data.columns"
   ]
  },
  {
   "cell_type": "code",
   "execution_count": 20,
   "metadata": {},
   "outputs": [],
   "source": [
    "assembler = VectorAssembler(\n",
    "    inputCols=[\n",
    "        \"Age\",\n",
    "        \"Tonnage\",\n",
    "        \"passengers\",\n",
    "        \"length\",\n",
    "        \"cabins\",\n",
    "        \"passenger_density\",\n",
    "        \"Cruise_line_indexed\",\n",
    "    ],\n",
    "    outputCol=\"features\",\n",
    ")"
   ]
  },
  {
   "cell_type": "code",
   "execution_count": 21,
   "metadata": {},
   "outputs": [],
   "source": [
    "output = assembler.transform(new_data)"
   ]
  },
  {
   "cell_type": "code",
   "execution_count": 45,
   "metadata": {},
   "outputs": [
    {
     "name": "stdout",
     "output_type": "stream",
     "text": [
      "+-----------+-----------+---+------------------+----------+------+------+-----------------+----+-------------------+--------------------------------------------------+\n",
      "|Ship_name  |Cruise_line|Age|Tonnage           |passengers|length|cabins|passenger_density|crew|Cruise_line_indexed|features                                          |\n",
      "+-----------+-----------+---+------------------+----------+------+------+-----------------+----+-------------------+--------------------------------------------------+\n",
      "|Journey    |Azamara    |6  |30.276999999999997|6.94      |5.94  |3.55  |42.64            |3.55|16.0               |[6.0,30.276999999999997,6.94,5.94,3.55,42.64,16.0]|\n",
      "|Quest      |Azamara    |6  |30.276999999999997|6.94      |5.94  |3.55  |42.64            |3.55|16.0               |[6.0,30.276999999999997,6.94,5.94,3.55,42.64,16.0]|\n",
      "|Celebration|Carnival   |26 |47.262            |14.86     |7.22  |7.43  |31.8             |6.7 |1.0                |[26.0,47.262,14.86,7.22,7.43,31.8,1.0]            |\n",
      "|Conquest   |Carnival   |11 |110.0             |29.74     |9.53  |14.88 |36.99            |19.1|1.0                |[11.0,110.0,29.74,9.53,14.88,36.99,1.0]           |\n",
      "|Destiny    |Carnival   |17 |101.353           |26.42     |8.92  |13.21 |38.36            |10.0|1.0                |[17.0,101.353,26.42,8.92,13.21,38.36,1.0]         |\n",
      "|Ecstasy    |Carnival   |22 |70.367            |20.52     |8.55  |10.2  |34.29            |9.2 |1.0                |[22.0,70.367,20.52,8.55,10.2,34.29,1.0]           |\n",
      "|Elation    |Carnival   |15 |70.367            |20.52     |8.55  |10.2  |34.29            |9.2 |1.0                |[15.0,70.367,20.52,8.55,10.2,34.29,1.0]           |\n",
      "|Fantasy    |Carnival   |23 |70.367            |20.56     |8.55  |10.22 |34.23            |9.2 |1.0                |[23.0,70.367,20.56,8.55,10.22,34.23,1.0]          |\n",
      "|Fascination|Carnival   |19 |70.367            |20.52     |8.55  |10.2  |34.29            |9.2 |1.0                |[19.0,70.367,20.52,8.55,10.2,34.29,1.0]           |\n",
      "|Freedom    |Carnival   |6  |110.23899999999999|37.0      |9.51  |14.87 |29.79            |11.5|1.0                |[6.0,110.23899999999999,37.0,9.51,14.87,29.79,1.0]|\n",
      "|Glory      |Carnival   |10 |110.0             |29.74     |9.51  |14.87 |36.99            |11.6|1.0                |[10.0,110.0,29.74,9.51,14.87,36.99,1.0]           |\n",
      "|Holiday    |Carnival   |28 |46.052            |14.52     |7.27  |7.26  |31.72            |6.6 |1.0                |[28.0,46.052,14.52,7.27,7.26,31.72,1.0]           |\n",
      "|Imagination|Carnival   |18 |70.367            |20.52     |8.55  |10.2  |34.29            |9.2 |1.0                |[18.0,70.367,20.52,8.55,10.2,34.29,1.0]           |\n",
      "|Inspiration|Carnival   |17 |70.367            |20.52     |8.55  |10.2  |34.29            |9.2 |1.0                |[17.0,70.367,20.52,8.55,10.2,34.29,1.0]           |\n",
      "|Legend     |Carnival   |11 |86.0              |21.24     |9.63  |10.62 |40.49            |9.3 |1.0                |[11.0,86.0,21.24,9.63,10.62,40.49,1.0]            |\n",
      "|Liberty*   |Carnival   |8  |110.0             |29.74     |9.51  |14.87 |36.99            |11.6|1.0                |[8.0,110.0,29.74,9.51,14.87,36.99,1.0]            |\n",
      "|Miracle    |Carnival   |9  |88.5              |21.24     |9.63  |10.62 |41.67            |10.3|1.0                |[9.0,88.5,21.24,9.63,10.62,41.67,1.0]             |\n",
      "|Paradise   |Carnival   |15 |70.367            |20.52     |8.55  |10.2  |34.29            |9.2 |1.0                |[15.0,70.367,20.52,8.55,10.2,34.29,1.0]           |\n",
      "|Pride      |Carnival   |12 |88.5              |21.24     |9.63  |11.62 |41.67            |9.3 |1.0                |[12.0,88.5,21.24,9.63,11.62,41.67,1.0]            |\n",
      "|Sensation  |Carnival   |20 |70.367            |20.52     |8.55  |10.2  |34.29            |9.2 |1.0                |[20.0,70.367,20.52,8.55,10.2,34.29,1.0]           |\n",
      "+-----------+-----------+---+------------------+----------+------+------+-----------------+----+-------------------+--------------------------------------------------+\n",
      "only showing top 20 rows\n",
      "\n"
     ]
    }
   ],
   "source": [
    "output.show(truncate=False)"
   ]
  },
  {
   "cell_type": "code",
   "execution_count": 46,
   "metadata": {},
   "outputs": [
    {
     "name": "stdout",
     "output_type": "stream",
     "text": [
      "+--------------------------------------------------+----+\n",
      "|features                                          |crew|\n",
      "+--------------------------------------------------+----+\n",
      "|[6.0,30.276999999999997,6.94,5.94,3.55,42.64,16.0]|3.55|\n",
      "|[6.0,30.276999999999997,6.94,5.94,3.55,42.64,16.0]|3.55|\n",
      "|[26.0,47.262,14.86,7.22,7.43,31.8,1.0]            |6.7 |\n",
      "|[11.0,110.0,29.74,9.53,14.88,36.99,1.0]           |19.1|\n",
      "|[17.0,101.353,26.42,8.92,13.21,38.36,1.0]         |10.0|\n",
      "|[22.0,70.367,20.52,8.55,10.2,34.29,1.0]           |9.2 |\n",
      "|[15.0,70.367,20.52,8.55,10.2,34.29,1.0]           |9.2 |\n",
      "|[23.0,70.367,20.56,8.55,10.22,34.23,1.0]          |9.2 |\n",
      "|[19.0,70.367,20.52,8.55,10.2,34.29,1.0]           |9.2 |\n",
      "|[6.0,110.23899999999999,37.0,9.51,14.87,29.79,1.0]|11.5|\n",
      "|[10.0,110.0,29.74,9.51,14.87,36.99,1.0]           |11.6|\n",
      "|[28.0,46.052,14.52,7.27,7.26,31.72,1.0]           |6.6 |\n",
      "|[18.0,70.367,20.52,8.55,10.2,34.29,1.0]           |9.2 |\n",
      "|[17.0,70.367,20.52,8.55,10.2,34.29,1.0]           |9.2 |\n",
      "|[11.0,86.0,21.24,9.63,10.62,40.49,1.0]            |9.3 |\n",
      "|[8.0,110.0,29.74,9.51,14.87,36.99,1.0]            |11.6|\n",
      "|[9.0,88.5,21.24,9.63,10.62,41.67,1.0]             |10.3|\n",
      "|[15.0,70.367,20.52,8.55,10.2,34.29,1.0]           |9.2 |\n",
      "|[12.0,88.5,21.24,9.63,11.62,41.67,1.0]            |9.3 |\n",
      "|[20.0,70.367,20.52,8.55,10.2,34.29,1.0]           |9.2 |\n",
      "+--------------------------------------------------+----+\n",
      "only showing top 20 rows\n",
      "\n"
     ]
    }
   ],
   "source": [
    "output.select(\"features\", \"crew\").show(truncate=False)"
   ]
  },
  {
   "cell_type": "code",
   "execution_count": 23,
   "metadata": {},
   "outputs": [],
   "source": [
    "final_data = output.select(\"features\", \"crew\")"
   ]
  },
  {
   "cell_type": "code",
   "execution_count": 24,
   "metadata": {},
   "outputs": [
    {
     "name": "stdout",
     "output_type": "stream",
     "text": [
      "+--------------------------------------------------+----+\n",
      "|features                                          |crew|\n",
      "+--------------------------------------------------+----+\n",
      "|[6.0,30.276999999999997,6.94,5.94,3.55,42.64,16.0]|3.55|\n",
      "|[6.0,30.276999999999997,6.94,5.94,3.55,42.64,16.0]|3.55|\n",
      "|[26.0,47.262,14.86,7.22,7.43,31.8,1.0]            |6.7 |\n",
      "|[11.0,110.0,29.74,9.53,14.88,36.99,1.0]           |19.1|\n",
      "|[17.0,101.353,26.42,8.92,13.21,38.36,1.0]         |10.0|\n",
      "|[22.0,70.367,20.52,8.55,10.2,34.29,1.0]           |9.2 |\n",
      "|[15.0,70.367,20.52,8.55,10.2,34.29,1.0]           |9.2 |\n",
      "|[23.0,70.367,20.56,8.55,10.22,34.23,1.0]          |9.2 |\n",
      "|[19.0,70.367,20.52,8.55,10.2,34.29,1.0]           |9.2 |\n",
      "|[6.0,110.23899999999999,37.0,9.51,14.87,29.79,1.0]|11.5|\n",
      "|[10.0,110.0,29.74,9.51,14.87,36.99,1.0]           |11.6|\n",
      "|[28.0,46.052,14.52,7.27,7.26,31.72,1.0]           |6.6 |\n",
      "|[18.0,70.367,20.52,8.55,10.2,34.29,1.0]           |9.2 |\n",
      "|[17.0,70.367,20.52,8.55,10.2,34.29,1.0]           |9.2 |\n",
      "|[11.0,86.0,21.24,9.63,10.62,40.49,1.0]            |9.3 |\n",
      "|[8.0,110.0,29.74,9.51,14.87,36.99,1.0]            |11.6|\n",
      "|[9.0,88.5,21.24,9.63,10.62,41.67,1.0]             |10.3|\n",
      "|[15.0,70.367,20.52,8.55,10.2,34.29,1.0]           |9.2 |\n",
      "|[12.0,88.5,21.24,9.63,11.62,41.67,1.0]            |9.3 |\n",
      "|[20.0,70.367,20.52,8.55,10.2,34.29,1.0]           |9.2 |\n",
      "+--------------------------------------------------+----+\n",
      "only showing top 20 rows\n",
      "\n"
     ]
    }
   ],
   "source": [
    "final_data.show(truncate=False)"
   ]
  },
  {
   "cell_type": "code",
   "execution_count": 48,
   "metadata": {},
   "outputs": [],
   "source": [
    "train_data, test_data = final_data.randomSplit([0.7, 0.3], seed=20)"
   ]
  },
  {
   "cell_type": "code",
   "execution_count": 49,
   "metadata": {},
   "outputs": [
    {
     "name": "stdout",
     "output_type": "stream",
     "text": [
      "+-------+-----------------+\n",
      "|summary|             crew|\n",
      "+-------+-----------------+\n",
      "|  count|              117|\n",
      "|   mean|7.908717948717958|\n",
      "| stddev| 3.57895851216946|\n",
      "|    min|             0.59|\n",
      "|    max|             21.0|\n",
      "+-------+-----------------+\n",
      "\n"
     ]
    }
   ],
   "source": [
    "train_data.describe().show()"
   ]
  },
  {
   "cell_type": "code",
   "execution_count": 50,
   "metadata": {},
   "outputs": [
    {
     "name": "stdout",
     "output_type": "stream",
     "text": [
      "+-------+------------------+\n",
      "|summary|              crew|\n",
      "+-------+------------------+\n",
      "|  count|                41|\n",
      "|   mean| 7.467317073170732|\n",
      "| stddev|3.2989801639220593|\n",
      "|    min|              0.59|\n",
      "|    max|              13.6|\n",
      "+-------+------------------+\n",
      "\n"
     ]
    }
   ],
   "source": [
    "test_data.describe().show()"
   ]
  },
  {
   "cell_type": "code",
   "execution_count": 51,
   "metadata": {},
   "outputs": [],
   "source": [
    "lr = LinearRegression(labelCol=\"crew\")"
   ]
  },
  {
   "cell_type": "code",
   "execution_count": 52,
   "metadata": {},
   "outputs": [
    {
     "name": "stderr",
     "output_type": "stream",
     "text": [
      "24/03/09 22:34:35 WARN Instrumentation: [ad68b11c] regParam is zero, which might cause numerical instability and overfitting.\n"
     ]
    }
   ],
   "source": [
    "lr_model = lr.fit(train_data)"
   ]
  },
  {
   "cell_type": "code",
   "execution_count": 53,
   "metadata": {},
   "outputs": [],
   "source": [
    "test_resutl = lr_model.evaluate(test_data)"
   ]
  },
  {
   "cell_type": "code",
   "execution_count": 54,
   "metadata": {},
   "outputs": [
    {
     "name": "stdout",
     "output_type": "stream",
     "text": [
      "+--------------------+\n",
      "|           residuals|\n",
      "+--------------------+\n",
      "|  0.2752564451201476|\n",
      "| -0.5692223935878893|\n",
      "|-0.33845256383708566|\n",
      "| 0.38940107674238256|\n",
      "| -0.5301038905684692|\n",
      "|  -0.519562322725184|\n",
      "| -0.2795865744832291|\n",
      "|  1.5840737513377299|\n",
      "|  0.1948040239725053|\n",
      "|  0.9979918810633261|\n",
      "| -0.4860850374985084|\n",
      "|  0.0785318113819109|\n",
      "| -0.4862305861429297|\n",
      "|-0.37805325953321933|\n",
      "| 0.18558457632976788|\n",
      "|   3.198106482993822|\n",
      "| -1.0649390905809817|\n",
      "| 0.10756742361880534|\n",
      "|  -1.731069877483522|\n",
      "| 0.14439957887712573|\n",
      "+--------------------+\n",
      "only showing top 20 rows\n",
      "\n"
     ]
    }
   ],
   "source": [
    "test_resutl.residuals.show()"
   ]
  },
  {
   "cell_type": "code",
   "execution_count": 55,
   "metadata": {},
   "outputs": [
    {
     "data": {
      "text/plain": [
       "0.8060419594818015"
      ]
     },
     "execution_count": 55,
     "metadata": {},
     "output_type": "execute_result"
    }
   ],
   "source": [
    "test_resutl.rootMeanSquaredError"
   ]
  },
  {
   "cell_type": "code",
   "execution_count": 56,
   "metadata": {},
   "outputs": [
    {
     "data": {
      "text/plain": [
       "0.9388100980684839"
      ]
     },
     "execution_count": 56,
     "metadata": {},
     "output_type": "execute_result"
    }
   ],
   "source": [
    "test_resutl.r2"
   ]
  },
  {
   "cell_type": "code",
   "execution_count": 57,
   "metadata": {},
   "outputs": [
    {
     "data": {
      "text/plain": [
       "0.9258304219011926"
      ]
     },
     "execution_count": 57,
     "metadata": {},
     "output_type": "execute_result"
    }
   ],
   "source": [
    "test_resutl.r2adj"
   ]
  },
  {
   "cell_type": "code",
   "execution_count": 58,
   "metadata": {},
   "outputs": [],
   "source": [
    "unlabeled_data = test_data.select(\"features\")"
   ]
  },
  {
   "cell_type": "code",
   "execution_count": 59,
   "metadata": {},
   "outputs": [
    {
     "name": "stdout",
     "output_type": "stream",
     "text": [
      "+---------------------------------------------------+\n",
      "|features                                           |\n",
      "+---------------------------------------------------+\n",
      "|[5.0,115.0,35.74,9.0,15.32,32.18,8.0]              |\n",
      "|[6.0,112.0,38.0,9.51,15.0,29.47,5.0]               |\n",
      "|[7.0,158.0,43.7,11.12,18.0,36.16,0.0]              |\n",
      "|[8.0,77.499,19.5,8.56,9.75,39.74,2.0]              |\n",
      "|[9.0,105.0,27.2,8.9,13.56,38.6,5.0]                |\n",
      "|[9.0,110.0,29.74,9.52,14.87,36.99,1.0]             |\n",
      "|[10.0,58.825,15.6,8.23,7.65,37.71,7.0]             |\n",
      "|[10.0,151.4,26.2,11.32,11.34,57.79,12.0]           |\n",
      "|[11.0,58.6,15.66,8.23,7.83,37.42,7.0]              |\n",
      "|[11.0,90.0,22.4,9.65,11.2,40.18,4.0]               |\n",
      "|[11.0,90.09,25.01,9.62,10.5,36.02,0.0]             |\n",
      "|[13.0,30.276999999999997,6.84,5.94,3.42,44.26,13.0]|\n",
      "|[13.0,61.0,13.8,7.8,6.88,44.2,3.0]                 |\n",
      "|[13.0,85.619,21.14,9.57,10.56,40.5,5.0]            |\n",
      "|[14.0,33.0,4.9,5.6,2.45,67.35,10.0]                |\n",
      "|[14.0,76.8,19.6,8.79,9.67,39.18,9.0]               |\n",
      "|[14.0,138.0,31.14,10.2,15.57,44.32,0.0]            |\n",
      "|[15.0,30.276999999999997,6.84,5.94,3.42,44.26,13.0]|\n",
      "|[15.0,78.491,24.35,9.15,10.0,32.23,0.0]            |\n",
      "|[15.0,108.806,26.0,9.51,13.0,41.85,2.0]            |\n",
      "+---------------------------------------------------+\n",
      "only showing top 20 rows\n",
      "\n"
     ]
    }
   ],
   "source": [
    "unlabeled_data.show(truncate=False)"
   ]
  },
  {
   "cell_type": "code",
   "execution_count": 60,
   "metadata": {},
   "outputs": [],
   "source": [
    "prediction = lr_model.transform(unlabeled_data)"
   ]
  },
  {
   "cell_type": "code",
   "execution_count": 61,
   "metadata": {},
   "outputs": [
    {
     "name": "stdout",
     "output_type": "stream",
     "text": [
      "+--------------------+------------------+\n",
      "|            features|        prediction|\n",
      "+--------------------+------------------+\n",
      "|[5.0,115.0,35.74,...|11.924743554879852|\n",
      "|[6.0,112.0,38.0,9...| 11.46922239358789|\n",
      "|[7.0,158.0,43.7,1...|13.938452563837085|\n",
      "|[8.0,77.499,19.5,...| 8.610598923257617|\n",
      "|[9.0,105.0,27.2,8...|11.210103890568469|\n",
      "|[9.0,110.0,29.74,...|12.119562322725184|\n",
      "|[10.0,58.825,15.6...| 7.279586574483229|\n",
      "|[10.0,151.4,26.2,...| 10.94592624866227|\n",
      "|[11.0,58.6,15.66,...| 7.405195976027494|\n",
      "|[11.0,90.0,22.4,9...|10.002008118936674|\n",
      "|[11.0,90.09,25.01...| 8.966085037498509|\n",
      "|[13.0,30.27699999...| 3.921468188618089|\n",
      "|[13.0,61.0,13.8,7...|  6.48623058614293|\n",
      "|[13.0,85.619,21.1...| 9.578053259533219|\n",
      "|[14.0,33.0,4.9,5....|3.0544154236702323|\n",
      "|[14.0,76.8,19.6,8...| 8.801893517006178|\n",
      "|[14.0,138.0,31.14...|12.824939090580981|\n",
      "|[15.0,30.27699999...|3.8924325763811947|\n",
      "|[15.0,78.491,24.3...| 8.331069877483522|\n",
      "|[15.0,108.806,26....|10.955600421122874|\n",
      "+--------------------+------------------+\n",
      "only showing top 20 rows\n",
      "\n"
     ]
    }
   ],
   "source": [
    "prediction.show()"
   ]
  },
  {
   "cell_type": "code",
   "execution_count": 62,
   "metadata": {},
   "outputs": [],
   "source": [
    "from pyspark.sql.functions import corr"
   ]
  },
  {
   "cell_type": "code",
   "execution_count": 64,
   "metadata": {},
   "outputs": [
    {
     "name": "stdout",
     "output_type": "stream",
     "text": [
      "+----------------------+\n",
      "|corr(crew, passengers)|\n",
      "+----------------------+\n",
      "|    0.9152341306065384|\n",
      "+----------------------+\n",
      "\n"
     ]
    }
   ],
   "source": [
    "data.select(corr(\"crew\", \"passengers\")).show()"
   ]
  },
  {
   "cell_type": "code",
   "execution_count": 65,
   "metadata": {},
   "outputs": [
    {
     "name": "stdout",
     "output_type": "stream",
     "text": [
      "+------------------+\n",
      "|corr(crew, cabins)|\n",
      "+------------------+\n",
      "|0.9508226063578497|\n",
      "+------------------+\n",
      "\n"
     ]
    }
   ],
   "source": [
    "data.select(corr(\"crew\", \"cabins\")).show()"
   ]
  },
  {
   "cell_type": "code",
   "execution_count": null,
   "metadata": {},
   "outputs": [],
   "source": []
  }
 ],
 "metadata": {
  "kernelspec": {
   "display_name": "spark",
   "language": "python",
   "name": "python3"
  },
  "language_info": {
   "codemirror_mode": {
    "name": "ipython",
    "version": 3
   },
   "file_extension": ".py",
   "mimetype": "text/x-python",
   "name": "python",
   "nbconvert_exporter": "python",
   "pygments_lexer": "ipython3",
   "version": "3.12.1"
  }
 },
 "nbformat": 4,
 "nbformat_minor": 2
}
